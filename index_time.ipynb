{
 "cells": [
  {
   "cell_type": "code",
   "execution_count": null,
   "metadata": {},
   "outputs": [],
   "source": [
    "import pandas as pd\n",
    "import datetime\n",
    "pd.set_option(\"max_rows\", None)\n",
    "pd.set_option(\"max_columns\", None)\n",
    "#url ='https://data.pmel.noaa.gov/generic/erddap/tabledap/tao_flux_clim_lwr_absolute.csv?EVAP,time,latitude,longitude,wmo_platform_code&orderByClosest(%22time/24hours%22)&time>=2009-04-01&time<=2011-12-31&wmo_platform_code=\"13001\"'\n",
    "#url='https://data.pmel.noaa.gov/generic/erddap/tabledap/NTAS_flux.csv?TA_H,time,latitude,longitude,wmo_platform_code&orderByClosest(%22time/24hours%22)&time>=2012-05-01&time<=2013-01-01&wmo_platform_code=\"48401.0\"'\n",
    "url='https://data.pmel.noaa.gov/generic/erddap/tabledap/NTAS_flux.csv?TA_H,time,latitude,longitude,wmo_platform_code,depth&time>=2012-05-01&time<=2013-01-01&wmo_platform_code=\"48401.0\"&orderBy(\"time,depth\")&depth=5.7'\n",
    "df = pd.read_csv(url, skiprows=[1])\n",
    "df.loc[:, 'time'] = pd.to_datetime(df['time'])\n",
    "df2 = df.set_index('time')\n",
    "df2 = df2[~df2.index.duplicated()]\n",
    "print(df2)"
   ]
  },
  {
   "cell_type": "code",
   "execution_count": null,
   "metadata": {},
   "outputs": [],
   "source": [
    "tindex = pd.date_range(df['time'].iloc[0], df['time'].iloc[-1],freq='1H')\n",
    "tindex"
   ]
  },
  {
   "cell_type": "code",
   "execution_count": null,
   "metadata": {},
   "outputs": [],
   "source": [
    "joe = tindex.append(df2.index)\n",
    "jane = joe[~joe.duplicated()]\n",
    "jane"
   ]
  },
  {
   "cell_type": "code",
   "execution_count": null,
   "metadata": {},
   "outputs": [],
   "source": [
    "df3 = df2.reindex(jane)\n",
    "df3"
   ]
  },
  {
   "cell_type": "code",
   "execution_count": null,
   "metadata": {},
   "outputs": [],
   "source": [
    "mask1 = ~df3['wmo_platform_code'].notna() & ~df3['wmo_platform_code'].shift().notna()\n",
    "mask2 = df3['wmo_platform_code'].notna()\n",
    "df4 = df3[mask1 | mask2]\n",
    "df4"
   ]
  },
  {
   "cell_type": "code",
   "execution_count": null,
   "metadata": {},
   "outputs": [],
   "source": [
    "df5 = df4.drop_duplicates()\n",
    "df5\n",
    "\n"
   ]
  }
 ],
 "metadata": {
  "kernelspec": {
   "display_name": "PyCharm (wsm)",
   "language": "python",
   "name": "pycharm-b9e55040"
  },
  "language_info": {
   "codemirror_mode": {
    "name": "ipython",
    "version": 3
   },
   "file_extension": ".py",
   "mimetype": "text/x-python",
   "name": "python",
   "nbconvert_exporter": "python",
   "pygments_lexer": "ipython3",
   "version": "3.9.7"
  }
 },
 "nbformat": 4,
 "nbformat_minor": 1
}
